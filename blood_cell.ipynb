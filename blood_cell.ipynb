{
  "nbformat": 4,
  "nbformat_minor": 0,
  "metadata": {
    "colab": {
      "name": "blood_cell.ipynb",
      "version": "0.3.2",
      "provenance": [],
      "collapsed_sections": []
    },
    "kernelspec": {
      "name": "python3",
      "display_name": "Python 3"
    }
  },
  "cells": [
    {
      "cell_type": "code",
      "metadata": {
        "id": "tfS8xwg-DpZR",
        "colab_type": "code",
        "colab": {}
      },
      "source": [
        "import os"
      ],
      "execution_count": 0,
      "outputs": []
    },
    {
      "cell_type": "code",
      "metadata": {
        "id": "idl1XUyEEgcx",
        "colab_type": "code",
        "colab": {}
      },
      "source": [
        "!unzip \"/content/drive/My Drive/dataset2-master\""
      ],
      "execution_count": 0,
      "outputs": []
    },
    {
      "cell_type": "code",
      "metadata": {
        "id": "MRwlTluIHRfV",
        "colab_type": "code",
        "colab": {}
      },
      "source": [
        "from tqdm import tqdm\n",
        "import cv2\n",
        "import scipy\n",
        "import numpy as np\n",
        "import pandas as pd\n",
        "import matplotlib.pyplot as plt"
      ],
      "execution_count": 0,
      "outputs": []
    },
    {
      "cell_type": "code",
      "metadata": {
        "id": "XI200S1tHdZQ",
        "colab_type": "code",
        "colab": {}
      },
      "source": [
        "def get_data(folder):\n",
        "    X = []\n",
        "    y = []\n",
        "    z = []\n",
        "    for wbc_type in os.listdir(folder):\n",
        "        if not wbc_type.startswith('.'):\n",
        "            if wbc_type in ['NEUTROPHIL']:\n",
        "                label = 0\n",
        "                label2 = 1\n",
        "            elif wbc_type in ['EOSINOPHIL']:\n",
        "                label = 1\n",
        "                label2 = 1\n",
        "            elif wbc_type in ['MONOCYTE']:\n",
        "                label = 2  \n",
        "                label2 = 0\n",
        "            elif wbc_type in ['LYMPHOCYTE']:\n",
        "                label = 3 \n",
        "                label2 = 0\n",
        "            for image_filename in tqdm(os.listdir(folder + wbc_type)):\n",
        "                img_file = cv2.imread(folder + wbc_type + '/' + image_filename)\n",
        "                if img_file is not None:\n",
        "                    img_file = cv2.resize(img_file,(80,60))\n",
        "                    img_arr = np.asarray(img_file)\n",
        "                    X.append(img_arr)\n",
        "                    y.append(label)\n",
        "                    z.append(label2)\n",
        "    X = np.asarray(X)\n",
        "    y = np.asarray(y)\n",
        "    z = np.asarray(z)\n",
        "    return X,y,z"
      ],
      "execution_count": 0,
      "outputs": []
    },
    {
      "cell_type": "code",
      "metadata": {
        "id": "-2nBOqv1HgMP",
        "colab_type": "code",
        "colab": {}
      },
      "source": [
        "train_folder='/content/dataset2-master/images/TRAIN/'\n",
        "test_folder='/content/dataset2-master/images/TEST/'\n",
        "val_folder='/content/dataset2-master/images/TEST_SIMPLE/'"
      ],
      "execution_count": 0,
      "outputs": []
    },
    {
      "cell_type": "code",
      "metadata": {
        "id": "E5GTBmLaHzuT",
        "colab_type": "code",
        "outputId": "615dc124-9496-455f-8ad1-0bed7701ce79",
        "colab": {
          "base_uri": "https://localhost:8080/",
          "height": 85
        }
      },
      "source": [
        "X_train, y_train, z_train=get_data(train_folder)"
      ],
      "execution_count": 0,
      "outputs": [
        {
          "output_type": "stream",
          "text": [
            "100%|██████████| 2478/2478 [00:02<00:00, 1168.08it/s]\n",
            "100%|██████████| 2483/2483 [00:02<00:00, 1193.21it/s]\n",
            "100%|██████████| 2499/2499 [00:02<00:00, 1161.88it/s]\n",
            "100%|██████████| 2497/2497 [00:02<00:00, 1183.58it/s]\n"
          ],
          "name": "stderr"
        }
      ]
    },
    {
      "cell_type": "code",
      "metadata": {
        "id": "CwVcBNP9IC7F",
        "colab_type": "code",
        "outputId": "d091c8c7-fd52-4599-9186-53d9d1aee34c",
        "colab": {
          "base_uri": "https://localhost:8080/",
          "height": 85
        }
      },
      "source": [
        "X_test, y_test, z_test =get_data(test_folder)"
      ],
      "execution_count": 0,
      "outputs": [
        {
          "output_type": "stream",
          "text": [
            "100%|██████████| 620/620 [00:00<00:00, 1193.24it/s]\n",
            "100%|██████████| 620/620 [00:00<00:00, 1218.54it/s]\n",
            "100%|██████████| 624/624 [00:00<00:00, 1204.56it/s]\n",
            "100%|██████████| 623/623 [00:00<00:00, 1187.56it/s]\n"
          ],
          "name": "stderr"
        }
      ]
    },
    {
      "cell_type": "code",
      "metadata": {
        "id": "ROUfqFhKJ9PL",
        "colab_type": "code",
        "outputId": "f3863e72-efc9-4369-9f89-faf122f97a8a",
        "colab": {
          "base_uri": "https://localhost:8080/",
          "height": 34
        }
      },
      "source": [
        "X_train.shape,y_train.shape,z_train.shape"
      ],
      "execution_count": 0,
      "outputs": [
        {
          "output_type": "execute_result",
          "data": {
            "text/plain": [
              "((9957, 60, 80, 3), (9957,), (9957,))"
            ]
          },
          "metadata": {
            "tags": []
          },
          "execution_count": 7
        }
      ]
    },
    {
      "cell_type": "code",
      "metadata": {
        "id": "0gPFXbNN7Tei",
        "colab_type": "code",
        "outputId": "fcc35d4a-ead7-423f-a0e3-f3bd13a79999",
        "colab": {
          "base_uri": "https://localhost:8080/",
          "height": 85
        }
      },
      "source": [
        "X_val,y_val,z_val=get_data(val_folder)"
      ],
      "execution_count": 0,
      "outputs": [
        {
          "output_type": "stream",
          "text": [
            "100%|██████████| 4/4 [00:00<00:00, 126.92it/s]\n",
            "100%|██████████| 6/6 [00:00<00:00, 778.21it/s]\n",
            "100%|██████████| 48/48 [00:00<00:00, 1143.16it/s]\n",
            "100%|██████████| 13/13 [00:00<00:00, 926.57it/s]\n"
          ],
          "name": "stderr"
        }
      ]
    },
    {
      "cell_type": "code",
      "metadata": {
        "id": "RpXAlBuE989N",
        "colab_type": "code",
        "outputId": "87234a3d-7d1e-460c-db2f-b247688ff3f8",
        "colab": {
          "base_uri": "https://localhost:8080/",
          "height": 102
        }
      },
      "source": [
        "pd.Series(y_train).value_counts()"
      ],
      "execution_count": 0,
      "outputs": [
        {
          "output_type": "execute_result",
          "data": {
            "text/plain": [
              "0    2499\n",
              "1    2497\n",
              "3    2483\n",
              "2    2478\n",
              "dtype: int64"
            ]
          },
          "metadata": {
            "tags": []
          },
          "execution_count": 10
        }
      ]
    },
    {
      "cell_type": "code",
      "metadata": {
        "id": "6ZtVvqYj-nV9",
        "colab_type": "code",
        "outputId": "5b6abbc0-65f0-4605-a8f1-067964ab53ab",
        "colab": {
          "base_uri": "https://localhost:8080/",
          "height": 34
        }
      },
      "source": [
        "from keras.utils.np_utils import to_categorical"
      ],
      "execution_count": 0,
      "outputs": [
        {
          "output_type": "stream",
          "text": [
            "Using TensorFlow backend.\n"
          ],
          "name": "stderr"
        }
      ]
    },
    {
      "cell_type": "code",
      "metadata": {
        "id": "hrqX6ScSKOTJ",
        "colab_type": "code",
        "colab": {}
      },
      "source": [
        "y_trainHot = to_categorical(y_train, num_classes = 4)\n",
        "y_testHot = to_categorical(y_test, num_classes = 4)\n",
        "z_trainHot = to_categorical(z_train, num_classes = 2)\n",
        "z_testHot = to_categorical(z_test, num_classes = 2)"
      ],
      "execution_count": 0,
      "outputs": []
    },
    {
      "cell_type": "code",
      "metadata": {
        "id": "s6QEG4NkKjv8",
        "colab_type": "code",
        "colab": {}
      },
      "source": [
        "from keras.models import Sequential\n",
        "from keras.layers import Dense, Conv2D, BatchNormalization, Dropout, MaxPool2D, Input, Softmax, Activation, Flatten\n",
        "from keras.models import Model\n",
        "from keras.callbacks import ModelCheckpoint\n",
        "from keras.utils.vis_utils import plot_model\n",
        "import keras\n",
        "from keras.optimizers import Adam"
      ],
      "execution_count": 0,
      "outputs": []
    },
    {
      "cell_type": "code",
      "metadata": {
        "id": "qBYOi59oKy3G",
        "colab_type": "code",
        "colab": {}
      },
      "source": [
        "def keras_model():\n",
        "    inputs=Input(shape=(60,80,3))\n",
        "    x = Conv2D(16, 5, strides=(2, 2), padding='same', activation='relu')(inputs)\n",
        "    x = BatchNormalization()(x)\n",
        "    x = Dropout(0.2)(x)\n",
        "    x = Conv2D(8, 5, strides=(2, 2), padding='same', activation='relu')(x)\n",
        "    x = BatchNormalization()(x)\n",
        "    x = Dropout(0.2)(x)\n",
        "    x = Conv2D(4, 5, strides=(2, 2), padding='same', activation='relu')(x)\n",
        "    x = BatchNormalization()(x)\n",
        "    x = Dropout(0.2)(x)\n",
        "    x = Conv2D(4, 5, strides=(2, 2), padding='same', activation='relu')(x)\n",
        "    x = BatchNormalization()(x)\n",
        "    x = Dropout(0.2)(x)\n",
        "    x = Flatten()(x)\n",
        "    x = Dense(64, activation='relu')(x)\n",
        "    x = Dropout(0.2)(x)\n",
        "    x = Dense(32, activation='relu')(x)\n",
        "    x = Dropout(0.2)(x)\n",
        "    x = Dense(16, activation='relu')(x)\n",
        "    x = Dropout(0.2)(x)\n",
        "    y = Dense(4, activation='softmax')(x)\n",
        "    model=Model(inputs,y)\n",
        "    model.compile(loss='categorical_crossentropy',\n",
        "                  optimizer=Adam(lr=0.01),\n",
        "                  metrics=['accuracy'])\n",
        "    return model"
      ],
      "execution_count": 0,
      "outputs": []
    },
    {
      "cell_type": "code",
      "metadata": {
        "id": "HPplBiDZLJ0a",
        "colab_type": "code",
        "outputId": "c992e014-46c8-4d44-edbd-7c547c1de300",
        "colab": {
          "base_uri": "https://localhost:8080/",
          "height": 343
        }
      },
      "source": [
        "model=keras_model()"
      ],
      "execution_count": 0,
      "outputs": [
        {
          "output_type": "stream",
          "text": [
            "WARNING: Logging before flag parsing goes to stderr.\n",
            "W0901 13:30:54.546446 139996531279744 deprecation_wrapper.py:119] From /usr/local/lib/python3.6/dist-packages/keras/backend/tensorflow_backend.py:66: The name tf.get_default_graph is deprecated. Please use tf.compat.v1.get_default_graph instead.\n",
            "\n",
            "W0901 13:30:54.574283 139996531279744 deprecation_wrapper.py:119] From /usr/local/lib/python3.6/dist-packages/keras/backend/tensorflow_backend.py:541: The name tf.placeholder is deprecated. Please use tf.compat.v1.placeholder instead.\n",
            "\n",
            "W0901 13:30:54.579824 139996531279744 deprecation_wrapper.py:119] From /usr/local/lib/python3.6/dist-packages/keras/backend/tensorflow_backend.py:4432: The name tf.random_uniform is deprecated. Please use tf.random.uniform instead.\n",
            "\n",
            "W0901 13:30:54.608762 139996531279744 deprecation_wrapper.py:119] From /usr/local/lib/python3.6/dist-packages/keras/backend/tensorflow_backend.py:190: The name tf.get_default_session is deprecated. Please use tf.compat.v1.get_default_session instead.\n",
            "\n",
            "W0901 13:30:54.610082 139996531279744 deprecation_wrapper.py:119] From /usr/local/lib/python3.6/dist-packages/keras/backend/tensorflow_backend.py:197: The name tf.ConfigProto is deprecated. Please use tf.compat.v1.ConfigProto instead.\n",
            "\n",
            "W0901 13:30:54.776211 139996531279744 deprecation_wrapper.py:119] From /usr/local/lib/python3.6/dist-packages/keras/backend/tensorflow_backend.py:2041: The name tf.nn.fused_batch_norm is deprecated. Please use tf.compat.v1.nn.fused_batch_norm instead.\n",
            "\n",
            "W0901 13:30:54.848288 139996531279744 deprecation.py:506] From /usr/local/lib/python3.6/dist-packages/keras/backend/tensorflow_backend.py:3733: calling dropout (from tensorflow.python.ops.nn_ops) with keep_prob is deprecated and will be removed in a future version.\n",
            "Instructions for updating:\n",
            "Please use `rate` instead of `keep_prob`. Rate should be set to `rate = 1 - keep_prob`.\n",
            "W0901 13:30:55.278684 139996531279744 deprecation_wrapper.py:119] From /usr/local/lib/python3.6/dist-packages/keras/optimizers.py:793: The name tf.train.Optimizer is deprecated. Please use tf.compat.v1.train.Optimizer instead.\n",
            "\n"
          ],
          "name": "stderr"
        }
      ]
    },
    {
      "cell_type": "code",
      "metadata": {
        "id": "hRogOgdnLNuj",
        "colab_type": "code",
        "outputId": "7ae470ba-12f5-4d3f-d56d-a2e34421ae69",
        "colab": {
          "base_uri": "https://localhost:8080/",
          "height": 867
        }
      },
      "source": [
        "model.summary()"
      ],
      "execution_count": 0,
      "outputs": [
        {
          "output_type": "stream",
          "text": [
            "Model: \"model_1\"\n",
            "_________________________________________________________________\n",
            "Layer (type)                 Output Shape              Param #   \n",
            "=================================================================\n",
            "input_1 (InputLayer)         (None, 60, 80, 3)         0         \n",
            "_________________________________________________________________\n",
            "conv2d_1 (Conv2D)            (None, 30, 40, 16)        1216      \n",
            "_________________________________________________________________\n",
            "batch_normalization_1 (Batch (None, 30, 40, 16)        64        \n",
            "_________________________________________________________________\n",
            "dropout_1 (Dropout)          (None, 30, 40, 16)        0         \n",
            "_________________________________________________________________\n",
            "conv2d_2 (Conv2D)            (None, 15, 20, 8)         3208      \n",
            "_________________________________________________________________\n",
            "batch_normalization_2 (Batch (None, 15, 20, 8)         32        \n",
            "_________________________________________________________________\n",
            "dropout_2 (Dropout)          (None, 15, 20, 8)         0         \n",
            "_________________________________________________________________\n",
            "conv2d_3 (Conv2D)            (None, 8, 10, 4)          804       \n",
            "_________________________________________________________________\n",
            "batch_normalization_3 (Batch (None, 8, 10, 4)          16        \n",
            "_________________________________________________________________\n",
            "dropout_3 (Dropout)          (None, 8, 10, 4)          0         \n",
            "_________________________________________________________________\n",
            "conv2d_4 (Conv2D)            (None, 4, 5, 4)           404       \n",
            "_________________________________________________________________\n",
            "batch_normalization_4 (Batch (None, 4, 5, 4)           16        \n",
            "_________________________________________________________________\n",
            "dropout_4 (Dropout)          (None, 4, 5, 4)           0         \n",
            "_________________________________________________________________\n",
            "flatten_1 (Flatten)          (None, 80)                0         \n",
            "_________________________________________________________________\n",
            "dense_1 (Dense)              (None, 64)                5184      \n",
            "_________________________________________________________________\n",
            "dropout_5 (Dropout)          (None, 64)                0         \n",
            "_________________________________________________________________\n",
            "dense_2 (Dense)              (None, 32)                2080      \n",
            "_________________________________________________________________\n",
            "dropout_6 (Dropout)          (None, 32)                0         \n",
            "_________________________________________________________________\n",
            "dense_3 (Dense)              (None, 16)                528       \n",
            "_________________________________________________________________\n",
            "dropout_7 (Dropout)          (None, 16)                0         \n",
            "_________________________________________________________________\n",
            "dense_4 (Dense)              (None, 4)                 68        \n",
            "=================================================================\n",
            "Total params: 13,620\n",
            "Trainable params: 13,556\n",
            "Non-trainable params: 64\n",
            "_________________________________________________________________\n"
          ],
          "name": "stdout"
        }
      ]
    },
    {
      "cell_type": "code",
      "metadata": {
        "id": "o2ETzpvhLUw_",
        "colab_type": "code",
        "colab": {}
      },
      "source": [
        "from keras.preprocessing.image import ImageDataGenerator"
      ],
      "execution_count": 0,
      "outputs": []
    },
    {
      "cell_type": "code",
      "metadata": {
        "id": "pvZfNQsXNcbx",
        "colab_type": "code",
        "colab": {}
      },
      "source": [
        "datagentrain = ImageDataGenerator(\n",
        "        rotation_range=40,\n",
        "        width_shift_range=0.15,\n",
        "        height_shift_range=0.15,\n",
        "        rescale=1./255,\n",
        "        shear_range=0.2,\n",
        "        zoom_range=0.2,\n",
        "        horizontal_flip=True,\n",
        "        fill_mode='nearest')"
      ],
      "execution_count": 0,
      "outputs": []
    },
    {
      "cell_type": "code",
      "metadata": {
        "id": "SW2PmFZhNlic",
        "colab_type": "code",
        "colab": {}
      },
      "source": [
        "datagentrain.fit(X_train)"
      ],
      "execution_count": 0,
      "outputs": []
    },
    {
      "cell_type": "code",
      "metadata": {
        "id": "SKSUwcFqOI5N",
        "colab_type": "code",
        "colab": {}
      },
      "source": [
        "import math"
      ],
      "execution_count": 0,
      "outputs": []
    },
    {
      "cell_type": "code",
      "metadata": {
        "id": "pb2QB80xOhwj",
        "colab_type": "code",
        "colab": {}
      },
      "source": [
        "checkpoint = ModelCheckpoint('/content/model.hdf5', monitor='val_acc', verbose=1, save_best_only=True, mode='max')\n",
        "callbacks_list = [checkpoint]"
      ],
      "execution_count": 0,
      "outputs": []
    },
    {
      "cell_type": "code",
      "metadata": {
        "id": "A_FYoF26Nnzb",
        "colab_type": "code",
        "outputId": "aee9d1f0-ea4f-45a7-b906-4d435f291eeb",
        "colab": {
          "base_uri": "https://localhost:8080/",
          "height": 1000
        }
      },
      "source": [
        "history = model.fit_generator(datagentrain.flow(X_train, y_trainHot, batch_size=64),\n",
        "                    steps_per_epoch=math.ceil(X_train.shape[0]/64),\n",
        "                    epochs=100,\n",
        "                   validation_data = (X_test,y_testHot),callbacks = callbacks_list)"
      ],
      "execution_count": 0,
      "outputs": [
        {
          "output_type": "stream",
          "text": [
            "W0901 13:31:21.944375 139996531279744 deprecation.py:323] From /usr/local/lib/python3.6/dist-packages/tensorflow/python/ops/math_grad.py:1250: add_dispatch_support.<locals>.wrapper (from tensorflow.python.ops.array_ops) is deprecated and will be removed in a future version.\n",
            "Instructions for updating:\n",
            "Use tf.where in 2.0, which has the same broadcast rule as np.where\n"
          ],
          "name": "stderr"
        },
        {
          "output_type": "stream",
          "text": [
            "Epoch 1/100\n",
            "156/156 [==============================] - 39s 251ms/step - loss: 1.3962 - acc: 0.2613 - val_loss: 12.0740 - val_acc: 0.2509\n",
            "\n",
            "Epoch 00001: val_acc improved from -inf to 0.25090, saving model to /content/model.hdf5\n",
            "Epoch 2/100\n",
            "156/156 [==============================] - 38s 242ms/step - loss: 1.3677 - acc: 0.3027 - val_loss: 12.0999 - val_acc: 0.2493\n",
            "\n",
            "Epoch 00002: val_acc did not improve from 0.25090\n",
            "Epoch 3/100\n",
            "156/156 [==============================] - 38s 243ms/step - loss: 1.3639 - acc: 0.3098 - val_loss: 12.0999 - val_acc: 0.2493\n",
            "\n",
            "Epoch 00003: val_acc did not improve from 0.25090\n",
            "Epoch 4/100\n",
            "156/156 [==============================] - 38s 246ms/step - loss: 1.3411 - acc: 0.3265 - val_loss: 12.0999 - val_acc: 0.2493\n",
            "\n",
            "Epoch 00004: val_acc did not improve from 0.25090\n",
            "Epoch 5/100\n",
            "156/156 [==============================] - 38s 246ms/step - loss: 1.2713 - acc: 0.3758 - val_loss: 12.0999 - val_acc: 0.2493\n",
            "\n",
            "Epoch 00005: val_acc did not improve from 0.25090\n",
            "Epoch 6/100\n",
            "156/156 [==============================] - 38s 246ms/step - loss: 1.2026 - acc: 0.4170 - val_loss: 12.0999 - val_acc: 0.2493\n",
            "\n",
            "Epoch 00006: val_acc did not improve from 0.25090\n",
            "Epoch 7/100\n",
            "156/156 [==============================] - 39s 248ms/step - loss: 1.1506 - acc: 0.4803 - val_loss: 12.0999 - val_acc: 0.2493\n",
            "\n",
            "Epoch 00007: val_acc did not improve from 0.25090\n",
            "Epoch 8/100\n",
            "156/156 [==============================] - 39s 248ms/step - loss: 1.0831 - acc: 0.5133 - val_loss: 12.0999 - val_acc: 0.2493\n",
            "\n",
            "Epoch 00008: val_acc did not improve from 0.25090\n",
            "Epoch 9/100\n",
            "156/156 [==============================] - 38s 244ms/step - loss: 1.0724 - acc: 0.5272 - val_loss: 12.0999 - val_acc: 0.2493\n",
            "\n",
            "Epoch 00009: val_acc did not improve from 0.25090\n",
            "Epoch 10/100\n",
            "156/156 [==============================] - 38s 245ms/step - loss: 1.0084 - acc: 0.5578 - val_loss: 12.0999 - val_acc: 0.2493\n",
            "\n",
            "Epoch 00010: val_acc did not improve from 0.25090\n",
            "Epoch 11/100\n",
            "156/156 [==============================] - 39s 250ms/step - loss: 1.0191 - acc: 0.5446 - val_loss: 12.0999 - val_acc: 0.2493\n",
            "\n",
            "Epoch 00011: val_acc did not improve from 0.25090\n",
            "Epoch 12/100\n",
            "156/156 [==============================] - 39s 248ms/step - loss: 1.0004 - acc: 0.5665 - val_loss: 12.0999 - val_acc: 0.2493\n",
            "\n",
            "Epoch 00012: val_acc did not improve from 0.25090\n",
            "Epoch 13/100\n",
            "156/156 [==============================] - 39s 248ms/step - loss: 0.9531 - acc: 0.5993 - val_loss: 12.0999 - val_acc: 0.2493\n",
            "\n",
            "Epoch 00013: val_acc did not improve from 0.25090\n",
            "Epoch 14/100\n",
            "156/156 [==============================] - 39s 249ms/step - loss: 0.9205 - acc: 0.5945 - val_loss: 12.0999 - val_acc: 0.2493\n",
            "\n",
            "Epoch 00014: val_acc did not improve from 0.25090\n",
            "Epoch 15/100\n",
            "156/156 [==============================] - 39s 248ms/step - loss: 0.9559 - acc: 0.5914 - val_loss: 12.0999 - val_acc: 0.2493\n",
            "\n",
            "Epoch 00015: val_acc did not improve from 0.25090\n",
            "Epoch 16/100\n",
            "156/156 [==============================] - 39s 248ms/step - loss: 0.9613 - acc: 0.5897 - val_loss: 12.0999 - val_acc: 0.2493\n",
            "\n",
            "Epoch 00016: val_acc did not improve from 0.25090\n",
            "Epoch 17/100\n",
            "156/156 [==============================] - 38s 245ms/step - loss: 0.9034 - acc: 0.6119 - val_loss: 12.0999 - val_acc: 0.2493\n",
            "\n",
            "Epoch 00017: val_acc did not improve from 0.25090\n",
            "Epoch 18/100\n",
            "156/156 [==============================] - 38s 243ms/step - loss: 0.8811 - acc: 0.6220 - val_loss: 12.0999 - val_acc: 0.2493\n",
            "\n",
            "Epoch 00018: val_acc did not improve from 0.25090\n",
            "Epoch 19/100\n",
            "156/156 [==============================] - 38s 246ms/step - loss: 0.8811 - acc: 0.6178 - val_loss: 12.0999 - val_acc: 0.2493\n",
            "\n",
            "Epoch 00019: val_acc did not improve from 0.25090\n",
            "Epoch 20/100\n",
            "156/156 [==============================] - 38s 243ms/step - loss: 0.8812 - acc: 0.6269 - val_loss: 12.0999 - val_acc: 0.2493\n",
            "\n",
            "Epoch 00020: val_acc did not improve from 0.25090\n",
            "Epoch 21/100\n",
            "156/156 [==============================] - 39s 248ms/step - loss: 0.8846 - acc: 0.6269 - val_loss: 12.0999 - val_acc: 0.2493\n",
            "\n",
            "Epoch 00021: val_acc did not improve from 0.25090\n",
            "Epoch 22/100\n",
            "156/156 [==============================] - 39s 250ms/step - loss: 0.8490 - acc: 0.6425 - val_loss: 12.0999 - val_acc: 0.2493\n",
            "\n",
            "Epoch 00022: val_acc did not improve from 0.25090\n",
            "Epoch 23/100\n",
            "156/156 [==============================] - 39s 250ms/step - loss: 0.8364 - acc: 0.6363 - val_loss: 12.0999 - val_acc: 0.2493\n",
            "\n",
            "Epoch 00023: val_acc did not improve from 0.25090\n",
            "Epoch 24/100\n",
            "156/156 [==============================] - 39s 250ms/step - loss: 0.8377 - acc: 0.6316 - val_loss: 12.0999 - val_acc: 0.2493\n",
            "\n",
            "Epoch 00024: val_acc did not improve from 0.25090\n",
            "Epoch 25/100\n",
            "156/156 [==============================] - 39s 252ms/step - loss: 0.8431 - acc: 0.6361 - val_loss: 12.0999 - val_acc: 0.2493\n",
            "\n",
            "Epoch 00025: val_acc did not improve from 0.25090\n",
            "Epoch 26/100\n",
            "156/156 [==============================] - 40s 254ms/step - loss: 0.8397 - acc: 0.6297 - val_loss: 12.0999 - val_acc: 0.2493\n",
            "\n",
            "Epoch 00026: val_acc did not improve from 0.25090\n",
            "Epoch 27/100\n",
            "156/156 [==============================] - 40s 256ms/step - loss: 0.7983 - acc: 0.6450 - val_loss: 12.0999 - val_acc: 0.2493\n",
            "\n",
            "Epoch 00027: val_acc did not improve from 0.25090\n",
            "Epoch 28/100\n",
            "156/156 [==============================] - 39s 250ms/step - loss: 0.8080 - acc: 0.6403 - val_loss: 12.0999 - val_acc: 0.2493\n",
            "\n",
            "Epoch 00028: val_acc did not improve from 0.25090\n",
            "Epoch 29/100\n",
            "156/156 [==============================] - 40s 257ms/step - loss: 0.8235 - acc: 0.6347 - val_loss: 12.0999 - val_acc: 0.2493\n",
            "\n",
            "Epoch 00029: val_acc did not improve from 0.25090\n",
            "Epoch 30/100\n",
            "156/156 [==============================] - 40s 259ms/step - loss: 0.8000 - acc: 0.6481 - val_loss: 12.0999 - val_acc: 0.2493\n",
            "\n",
            "Epoch 00030: val_acc did not improve from 0.25090\n",
            "Epoch 31/100\n",
            "156/156 [==============================] - 40s 259ms/step - loss: 0.8171 - acc: 0.6371 - val_loss: 12.0999 - val_acc: 0.2493\n",
            "\n",
            "Epoch 00031: val_acc did not improve from 0.25090\n",
            "Epoch 32/100\n",
            "156/156 [==============================] - 41s 260ms/step - loss: 0.7938 - acc: 0.6526 - val_loss: 12.0999 - val_acc: 0.2493\n",
            "\n",
            "Epoch 00032: val_acc did not improve from 0.25090\n",
            "Epoch 33/100\n",
            "156/156 [==============================] - 41s 261ms/step - loss: 0.8097 - acc: 0.6431 - val_loss: 12.0999 - val_acc: 0.2493\n",
            "\n",
            "Epoch 00033: val_acc did not improve from 0.25090\n",
            "Epoch 34/100\n",
            "156/156 [==============================] - 39s 252ms/step - loss: 0.7891 - acc: 0.6463 - val_loss: 12.0999 - val_acc: 0.2493\n",
            "\n",
            "Epoch 00034: val_acc did not improve from 0.25090\n",
            "Epoch 35/100\n",
            "156/156 [==============================] - 39s 251ms/step - loss: 0.8299 - acc: 0.6268 - val_loss: 12.0999 - val_acc: 0.2493\n",
            "\n",
            "Epoch 00035: val_acc did not improve from 0.25090\n",
            "Epoch 36/100\n",
            "156/156 [==============================] - 39s 252ms/step - loss: 0.8152 - acc: 0.6310 - val_loss: 12.0999 - val_acc: 0.2493\n",
            "\n",
            "Epoch 00036: val_acc did not improve from 0.25090\n",
            "Epoch 37/100\n",
            "156/156 [==============================] - 39s 248ms/step - loss: 0.8071 - acc: 0.6289 - val_loss: 12.0999 - val_acc: 0.2493\n",
            "\n",
            "Epoch 00037: val_acc did not improve from 0.25090\n",
            "Epoch 38/100\n",
            "156/156 [==============================] - 39s 250ms/step - loss: 0.7880 - acc: 0.6432 - val_loss: 12.0999 - val_acc: 0.2493\n",
            "\n",
            "Epoch 00038: val_acc did not improve from 0.25090\n",
            "Epoch 39/100\n",
            "156/156 [==============================] - 39s 248ms/step - loss: 0.7946 - acc: 0.6442 - val_loss: 12.0999 - val_acc: 0.2493\n",
            "\n",
            "Epoch 00039: val_acc did not improve from 0.25090\n",
            "Epoch 40/100\n",
            "156/156 [==============================] - 39s 252ms/step - loss: 0.7713 - acc: 0.6441 - val_loss: 12.0999 - val_acc: 0.2493\n",
            "\n",
            "Epoch 00040: val_acc did not improve from 0.25090\n",
            "Epoch 41/100\n",
            "156/156 [==============================] - 39s 251ms/step - loss: 0.7779 - acc: 0.6340 - val_loss: 12.0999 - val_acc: 0.2493\n",
            "\n",
            "Epoch 00041: val_acc did not improve from 0.25090\n",
            "Epoch 42/100\n",
            "156/156 [==============================] - 39s 253ms/step - loss: 0.7772 - acc: 0.6392 - val_loss: 11.9682 - val_acc: 0.2400\n",
            "\n",
            "Epoch 00042: val_acc did not improve from 0.25090\n",
            "Epoch 43/100\n",
            "156/156 [==============================] - 39s 252ms/step - loss: 0.7643 - acc: 0.6390 - val_loss: 12.0999 - val_acc: 0.2493\n",
            "\n",
            "Epoch 00043: val_acc did not improve from 0.25090\n",
            "Epoch 44/100\n",
            "156/156 [==============================] - 39s 251ms/step - loss: 0.7750 - acc: 0.6406 - val_loss: 12.0999 - val_acc: 0.2493\n",
            "\n",
            "Epoch 00044: val_acc did not improve from 0.25090\n",
            "Epoch 45/100\n",
            "156/156 [==============================] - 39s 253ms/step - loss: 0.7833 - acc: 0.6409 - val_loss: 12.0999 - val_acc: 0.2493\n",
            "\n",
            "Epoch 00045: val_acc did not improve from 0.25090\n",
            "Epoch 46/100\n",
            "156/156 [==============================] - 39s 251ms/step - loss: 0.7775 - acc: 0.6464 - val_loss: 12.0999 - val_acc: 0.2493\n",
            "\n",
            "Epoch 00046: val_acc did not improve from 0.25090\n",
            "Epoch 47/100\n",
            "156/156 [==============================] - 39s 252ms/step - loss: 0.7667 - acc: 0.6331 - val_loss: 12.0999 - val_acc: 0.2493\n",
            "\n",
            "Epoch 00047: val_acc did not improve from 0.25090\n",
            "Epoch 48/100\n",
            "156/156 [==============================] - 40s 255ms/step - loss: 0.7697 - acc: 0.6388 - val_loss: 12.0999 - val_acc: 0.2493\n",
            "\n",
            "Epoch 00048: val_acc did not improve from 0.25090\n",
            "Epoch 49/100\n",
            "156/156 [==============================] - 40s 256ms/step - loss: 0.7624 - acc: 0.6424 - val_loss: 12.0999 - val_acc: 0.2493\n",
            "\n",
            "Epoch 00049: val_acc did not improve from 0.25090\n",
            "Epoch 50/100\n",
            "156/156 [==============================] - 39s 253ms/step - loss: 0.7535 - acc: 0.6488 - val_loss: 12.0999 - val_acc: 0.2493\n",
            "\n",
            "Epoch 00050: val_acc did not improve from 0.25090\n",
            "Epoch 51/100\n",
            "156/156 [==============================] - 39s 253ms/step - loss: 0.8002 - acc: 0.6316 - val_loss: 12.0999 - val_acc: 0.2493\n",
            "\n",
            "Epoch 00051: val_acc did not improve from 0.25090\n",
            "Epoch 52/100\n",
            "156/156 [==============================] - 40s 254ms/step - loss: 0.8458 - acc: 0.6122 - val_loss: 12.0999 - val_acc: 0.2493\n",
            "\n",
            "Epoch 00052: val_acc did not improve from 0.25090\n",
            "Epoch 53/100\n",
            "156/156 [==============================] - 39s 252ms/step - loss: 0.7791 - acc: 0.6414 - val_loss: 12.0999 - val_acc: 0.2493\n",
            "\n",
            "Epoch 00053: val_acc did not improve from 0.25090\n",
            "Epoch 54/100\n",
            "156/156 [==============================] - 40s 254ms/step - loss: 0.7757 - acc: 0.6326 - val_loss: 12.0999 - val_acc: 0.2493\n",
            "\n",
            "Epoch 00054: val_acc did not improve from 0.25090\n",
            "Epoch 55/100\n",
            "156/156 [==============================] - 39s 251ms/step - loss: 0.7626 - acc: 0.6447 - val_loss: 12.0999 - val_acc: 0.2493\n",
            "\n",
            "Epoch 00055: val_acc did not improve from 0.25090\n",
            "Epoch 56/100\n",
            "156/156 [==============================] - 40s 254ms/step - loss: 0.7502 - acc: 0.6425 - val_loss: 12.0999 - val_acc: 0.2493\n",
            "\n",
            "Epoch 00056: val_acc did not improve from 0.25090\n",
            "Epoch 57/100\n",
            "156/156 [==============================] - 39s 252ms/step - loss: 0.7621 - acc: 0.6444 - val_loss: 12.0999 - val_acc: 0.2493\n",
            "\n",
            "Epoch 00057: val_acc did not improve from 0.25090\n",
            "Epoch 58/100\n",
            "156/156 [==============================] - 39s 251ms/step - loss: 0.7767 - acc: 0.6399 - val_loss: 12.0999 - val_acc: 0.2493\n",
            "\n",
            "Epoch 00058: val_acc did not improve from 0.25090\n",
            "Epoch 59/100\n",
            "156/156 [==============================] - 39s 252ms/step - loss: 0.7758 - acc: 0.6401 - val_loss: 12.0999 - val_acc: 0.2493\n",
            "\n",
            "Epoch 00059: val_acc did not improve from 0.25090\n",
            "Epoch 60/100\n",
            "156/156 [==============================] - 39s 249ms/step - loss: 0.7561 - acc: 0.6471 - val_loss: 12.0999 - val_acc: 0.2493\n",
            "\n",
            "Epoch 00060: val_acc did not improve from 0.25090\n",
            "Epoch 61/100\n",
            "156/156 [==============================] - 39s 251ms/step - loss: 0.7575 - acc: 0.6418 - val_loss: 12.0999 - val_acc: 0.2493\n",
            "\n",
            "Epoch 00061: val_acc did not improve from 0.25090\n",
            "Epoch 62/100\n",
            "156/156 [==============================] - 39s 249ms/step - loss: 0.7717 - acc: 0.6427 - val_loss: 12.0999 - val_acc: 0.2493\n",
            "\n",
            "Epoch 00062: val_acc did not improve from 0.25090\n",
            "Epoch 63/100\n",
            "156/156 [==============================] - 39s 253ms/step - loss: 0.7539 - acc: 0.6485 - val_loss: 12.0999 - val_acc: 0.2493\n",
            "\n",
            "Epoch 00063: val_acc did not improve from 0.25090\n",
            "Epoch 64/100\n",
            "156/156 [==============================] - 40s 255ms/step - loss: 0.7764 - acc: 0.6362 - val_loss: 12.0999 - val_acc: 0.2493\n",
            "\n",
            "Epoch 00064: val_acc did not improve from 0.25090\n",
            "Epoch 65/100\n",
            "156/156 [==============================] - 39s 252ms/step - loss: 0.7614 - acc: 0.6452 - val_loss: 12.0999 - val_acc: 0.2493\n",
            "\n",
            "Epoch 00065: val_acc did not improve from 0.25090\n",
            "Epoch 66/100\n",
            "156/156 [==============================] - 40s 255ms/step - loss: 0.7333 - acc: 0.6474 - val_loss: 12.0999 - val_acc: 0.2493\n",
            "\n",
            "Epoch 00066: val_acc did not improve from 0.25090\n",
            "Epoch 67/100\n",
            "156/156 [==============================] - 40s 253ms/step - loss: 0.7376 - acc: 0.6526 - val_loss: 12.0999 - val_acc: 0.2493\n",
            "\n",
            "Epoch 00067: val_acc did not improve from 0.25090\n",
            "Epoch 68/100\n",
            "156/156 [==============================] - 40s 255ms/step - loss: 0.7437 - acc: 0.6388 - val_loss: 12.0999 - val_acc: 0.2493\n",
            "\n",
            "Epoch 00068: val_acc did not improve from 0.25090\n",
            "Epoch 69/100\n",
            "156/156 [==============================] - 40s 259ms/step - loss: 0.7384 - acc: 0.6429 - val_loss: 12.0999 - val_acc: 0.2493\n",
            "\n",
            "Epoch 00069: val_acc did not improve from 0.25090\n",
            "Epoch 70/100\n",
            "156/156 [==============================] - 40s 255ms/step - loss: 0.7306 - acc: 0.6491 - val_loss: 12.0999 - val_acc: 0.2493\n",
            "\n",
            "Epoch 00070: val_acc did not improve from 0.25090\n",
            "Epoch 71/100\n",
            "156/156 [==============================] - 40s 257ms/step - loss: 0.7661 - acc: 0.6428 - val_loss: 12.0999 - val_acc: 0.2493\n",
            "\n",
            "Epoch 00071: val_acc did not improve from 0.25090\n",
            "Epoch 72/100\n",
            "156/156 [==============================] - 40s 256ms/step - loss: 0.7495 - acc: 0.6454 - val_loss: 12.0999 - val_acc: 0.2493\n",
            "\n",
            "Epoch 00072: val_acc did not improve from 0.25090\n",
            "Epoch 73/100\n",
            "156/156 [==============================] - 40s 256ms/step - loss: 0.7311 - acc: 0.6392 - val_loss: 12.0999 - val_acc: 0.2493\n",
            "\n",
            "Epoch 00073: val_acc did not improve from 0.25090\n",
            "Epoch 74/100\n",
            "156/156 [==============================] - 40s 253ms/step - loss: 0.7552 - acc: 0.6448 - val_loss: 12.0999 - val_acc: 0.2493\n",
            "\n",
            "Epoch 00074: val_acc did not improve from 0.25090\n",
            "Epoch 75/100\n",
            "156/156 [==============================] - 41s 260ms/step - loss: 0.7404 - acc: 0.6490 - val_loss: 12.0999 - val_acc: 0.2493\n",
            "\n",
            "Epoch 00075: val_acc did not improve from 0.25090\n",
            "Epoch 76/100\n",
            "156/156 [==============================] - 41s 261ms/step - loss: 0.7487 - acc: 0.6484 - val_loss: 12.0999 - val_acc: 0.2493\n",
            "\n",
            "Epoch 00076: val_acc did not improve from 0.25090\n",
            "Epoch 77/100\n",
            "156/156 [==============================] - 40s 257ms/step - loss: 0.7539 - acc: 0.6391 - val_loss: 12.0999 - val_acc: 0.2493\n",
            "\n",
            "Epoch 00077: val_acc did not improve from 0.25090\n",
            "Epoch 78/100\n",
            "156/156 [==============================] - 40s 259ms/step - loss: 0.7885 - acc: 0.6314 - val_loss: 12.0999 - val_acc: 0.2493\n",
            "\n",
            "Epoch 00078: val_acc did not improve from 0.25090\n",
            "Epoch 79/100\n",
            "156/156 [==============================] - 39s 251ms/step - loss: 0.7507 - acc: 0.6499 - val_loss: 12.0999 - val_acc: 0.2493\n",
            "\n",
            "Epoch 00079: val_acc did not improve from 0.25090\n",
            "Epoch 80/100\n",
            "156/156 [==============================] - 39s 251ms/step - loss: 0.7553 - acc: 0.6383 - val_loss: 12.0999 - val_acc: 0.2493\n",
            "\n",
            "Epoch 00080: val_acc did not improve from 0.25090\n",
            "Epoch 81/100\n",
            "156/156 [==============================] - 40s 254ms/step - loss: 0.7374 - acc: 0.6489 - val_loss: 12.0999 - val_acc: 0.2493\n",
            "\n",
            "Epoch 00081: val_acc did not improve from 0.25090\n",
            "Epoch 82/100\n",
            "156/156 [==============================] - 39s 252ms/step - loss: 0.7392 - acc: 0.6465 - val_loss: 12.0999 - val_acc: 0.2493\n",
            "\n",
            "Epoch 00082: val_acc did not improve from 0.25090\n",
            "Epoch 83/100\n",
            "156/156 [==============================] - 39s 250ms/step - loss: 0.7648 - acc: 0.6457 - val_loss: 12.0999 - val_acc: 0.2493\n",
            "\n",
            "Epoch 00083: val_acc did not improve from 0.25090\n",
            "Epoch 84/100\n",
            "156/156 [==============================] - 39s 250ms/step - loss: 0.7487 - acc: 0.6396 - val_loss: 12.0999 - val_acc: 0.2493\n",
            "\n",
            "Epoch 00084: val_acc did not improve from 0.25090\n",
            "Epoch 85/100\n",
            "156/156 [==============================] - 39s 250ms/step - loss: 0.7451 - acc: 0.6485 - val_loss: 12.0999 - val_acc: 0.2493\n",
            "\n",
            "Epoch 00085: val_acc did not improve from 0.25090\n",
            "Epoch 86/100\n",
            "156/156 [==============================] - 39s 251ms/step - loss: 0.7434 - acc: 0.6435 - val_loss: 12.0999 - val_acc: 0.2493\n",
            "\n",
            "Epoch 00086: val_acc did not improve from 0.25090\n",
            "Epoch 87/100\n",
            "156/156 [==============================] - 39s 252ms/step - loss: 0.7521 - acc: 0.6445 - val_loss: 12.0999 - val_acc: 0.2493\n",
            "\n",
            "Epoch 00087: val_acc did not improve from 0.25090\n",
            "Epoch 88/100\n",
            "156/156 [==============================] - 39s 247ms/step - loss: 0.7392 - acc: 0.6468 - val_loss: 12.0999 - val_acc: 0.2493\n",
            "\n",
            "Epoch 00088: val_acc did not improve from 0.25090\n",
            "Epoch 89/100\n",
            "156/156 [==============================] - 39s 250ms/step - loss: 0.7301 - acc: 0.6485 - val_loss: 12.0999 - val_acc: 0.2493\n",
            "\n",
            "Epoch 00089: val_acc did not improve from 0.25090\n",
            "Epoch 90/100\n",
            "156/156 [==============================] - 39s 250ms/step - loss: 0.7358 - acc: 0.6519 - val_loss: 12.0999 - val_acc: 0.2493\n",
            "\n",
            "Epoch 00090: val_acc did not improve from 0.25090\n",
            "Epoch 91/100\n",
            "156/156 [==============================] - 39s 253ms/step - loss: 0.7557 - acc: 0.6453 - val_loss: 12.0999 - val_acc: 0.2493\n",
            "\n",
            "Epoch 00091: val_acc did not improve from 0.25090\n",
            "Epoch 92/100\n",
            "156/156 [==============================] - 40s 253ms/step - loss: 0.7325 - acc: 0.6514 - val_loss: 12.0999 - val_acc: 0.2493\n",
            "\n",
            "Epoch 00092: val_acc did not improve from 0.25090\n",
            "Epoch 93/100\n",
            "156/156 [==============================] - 39s 252ms/step - loss: 0.7543 - acc: 0.6416 - val_loss: 12.0999 - val_acc: 0.2493\n",
            "\n",
            "Epoch 00093: val_acc did not improve from 0.25090\n",
            "Epoch 94/100\n",
            "156/156 [==============================] - 39s 253ms/step - loss: 0.7378 - acc: 0.6468 - val_loss: 12.0999 - val_acc: 0.2493\n",
            "\n",
            "Epoch 00094: val_acc did not improve from 0.25090\n",
            "Epoch 95/100\n",
            "156/156 [==============================] - 39s 251ms/step - loss: 0.7629 - acc: 0.6451 - val_loss: 12.0999 - val_acc: 0.2493\n",
            "\n",
            "Epoch 00095: val_acc did not improve from 0.25090\n",
            "Epoch 96/100\n",
            "156/156 [==============================] - 39s 248ms/step - loss: 0.8125 - acc: 0.6176 - val_loss: 12.0999 - val_acc: 0.2493\n",
            "\n",
            "Epoch 00096: val_acc did not improve from 0.25090\n",
            "Epoch 97/100\n",
            "156/156 [==============================] - 39s 250ms/step - loss: 0.7637 - acc: 0.6327 - val_loss: 12.0999 - val_acc: 0.2493\n",
            "\n",
            "Epoch 00097: val_acc did not improve from 0.25090\n",
            "Epoch 98/100\n",
            "156/156 [==============================] - 39s 247ms/step - loss: 0.7468 - acc: 0.6432 - val_loss: 12.0999 - val_acc: 0.2493\n",
            "\n",
            "Epoch 00098: val_acc did not improve from 0.25090\n",
            "Epoch 99/100\n",
            "156/156 [==============================] - 39s 251ms/step - loss: 0.7480 - acc: 0.6433 - val_loss: 12.0999 - val_acc: 0.2493\n",
            "\n",
            "Epoch 00099: val_acc did not improve from 0.25090\n",
            "Epoch 100/100\n",
            "156/156 [==============================] - 39s 251ms/step - loss: 0.7416 - acc: 0.6441 - val_loss: 12.0999 - val_acc: 0.2493\n",
            "\n",
            "Epoch 00100: val_acc did not improve from 0.25090\n"
          ],
          "name": "stdout"
        }
      ]
    },
    {
      "cell_type": "code",
      "metadata": {
        "id": "YLHGXJ0iuLae",
        "colab_type": "code",
        "colab": {}
      },
      "source": [
        "%matplotlib inline"
      ],
      "execution_count": 0,
      "outputs": []
    },
    {
      "cell_type": "code",
      "metadata": {
        "id": "aDOFXC8DOSnB",
        "colab_type": "code",
        "outputId": "a136eecb-eb51-471a-e117-adfff7a90760",
        "colab": {
          "base_uri": "https://localhost:8080/",
          "height": 312
        }
      },
      "source": [
        "plt.plot(np.arange(1,101,1),history.history['loss'])\n",
        "plt.xlabel('#epochs')\n",
        "plt.ylabel('training_loss')\n",
        "plt.title('training_loss/epochs')"
      ],
      "execution_count": 0,
      "outputs": [
        {
          "output_type": "execute_result",
          "data": {
            "text/plain": [
              "Text(0.5, 1.0, 'training_loss/epochs')"
            ]
          },
          "metadata": {
            "tags": []
          },
          "execution_count": 37
        },
        {
          "output_type": "display_data",
          "data": {
            "image/png": "[encoded data removed]",
            "text/plain": [
              "<Figure size 432x288 with 1 Axes>"
            ]
          },
          "metadata": {
            "tags": []
          }
        }
      ]
    },
    {
      "cell_type": "code",
      "metadata": {
        "id": "Dh4qSz6NtZjC",
        "colab_type": "code",
        "outputId": "48440cc0-8dcb-4d90-f8ed-9a1277ae48d1",
        "colab": {
          "base_uri": "https://localhost:8080/",
          "height": 312
        }
      },
      "source": [
        "plt.plot(np.arange(1,101,1),history.history['acc'])\n",
        "plt.xlabel('#epochs')\n",
        "plt.ylabel('training_accuracy')\n",
        "plt.title('training_accuracy/epochs')"
      ],
      "execution_count": 0,
      "outputs": [
        {
          "output_type": "execute_result",
          "data": {
            "text/plain": [
              "Text(0.5, 1.0, 'training_accuracy/epochs')"
            ]
          },
          "metadata": {
            "tags": []
          },
          "execution_count": 38
        },
        {
          "output_type": "display_data",
          "data": {
            "image/png": "[encoded data removed]",
            "text/plain": [
              "<Figure size 432x288 with 1 Axes>"
            ]
          },
          "metadata": {
            "tags": []
          }
        }
      ]
    },
    {
      "cell_type": "code",
      "metadata": {
        "id": "jJFQma50v8B9",
        "colab_type": "code",
        "colab": {}
      },
      "source": [
        ""
      ],
      "execution_count": 0,
      "outputs": []
    }
  ]
}